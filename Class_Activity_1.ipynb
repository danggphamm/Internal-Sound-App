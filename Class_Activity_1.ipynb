{
  "nbformat": 4,
  "nbformat_minor": 0,
  "metadata": {
    "colab": {
      "name": "Class_Activity#1.ipynb",
      "provenance": [],
      "authorship_tag": "ABX9TyNikAvQdKTPh7kohDkVpAs4",
      "include_colab_link": true
    },
    "kernelspec": {
      "name": "python3",
      "display_name": "Python 3"
    },
    "language_info": {
      "name": "python"
    }
  },
  "cells": [
    {
      "cell_type": "markdown",
      "metadata": {
        "id": "view-in-github",
        "colab_type": "text"
      },
      "source": [
        "<a href=\"https://colab.research.google.com/github/danggphamm/Internal-Sound-App/blob/main/Class_Activity_1.ipynb\" target=\"_parent\"><img src=\"https://colab.research.google.com/assets/colab-badge.svg\" alt=\"Open In Colab\"/></a>"
      ]
    },
    {
      "cell_type": "code",
      "execution_count": null,
      "metadata": {
        "colab": {
          "base_uri": "https://localhost:8080/"
        },
        "id": "V9fC7DoMTA5d",
        "outputId": "65ac4adc-0869-4300-b965-ce78732c1d2b"
      },
      "outputs": [
        {
          "output_type": "stream",
          "name": "stdout",
          "text": [
            "abcdefghijkl\n",
            "abcdefghijkl\n",
            "mnopqrstuwxyz\n",
            "mnopqrstuwxyz\n",
            "acegikmoqsuxz\n",
            "zyxwutsrqponmlkjihgfedcba\n",
            "zwspmjgda\n"
          ]
        }
      ],
      "source": [
        "#Number 1\n",
        "\n",
        "alphabet=\"abcdefghijklmnopqrstuwxyz\"\n",
        "\n",
        "l=len(alphabet)\n",
        "\n",
        "mid=l//2\n",
        "\n",
        "print(alphabet[0:mid]) #a\n",
        "\n",
        "print(alphabet[:mid]) #b\n",
        "\n",
        "print(alphabet[mid:l]) #c\n",
        "\n",
        "print(alphabet[mid:]) #d\n",
        "\n",
        "print(alphabet[0::2]) #e\n",
        "\n",
        "print(alphabet[::-1]) #f\n",
        "\n",
        "print(alphabet[-1::-3]) #g"
      ]
    },
    {
      "cell_type": "code",
      "source": [
        "#Number 2\n",
        "\n",
        "def summarize_letters(string):\n",
        "\n",
        "  char_counter = {}\n",
        "\n",
        "  string_lower = string.lower()\n",
        "  for i in string_lower:\n",
        "    if i in char_counter and i.isalpha():\n",
        "        char_counter[i] = char_counter[i]+1\n",
        "\n",
        "    if i not in char_counter and i.isalpha():\n",
        "        char_counter[i] = 1\n",
        "\n",
        "  list_of_tuples = [(d, g) for d, g in char_counter.items()]   \n",
        "  return list_of_tuples"
      ],
      "metadata": {
        "id": "w7aA7xZKUMbf"
      },
      "execution_count": null,
      "outputs": []
    },
    {
      "cell_type": "code",
      "source": [
        "alphabets = 'B a b B C e f g h i j k B l n N M o p q d i r s P t u w c g k v x z y'\n",
        "print(summarize_letters(alphabets))\n",
        "\n",
        "import string\n",
        "\n",
        "alphabet = set(string.ascii_lowercase)\n",
        "\n",
        "if set(alphabets.lower()) >= alphabet:\n",
        "  print('Yay! The string ' +alphabets+' has all the letters in the alphabet!! ')"
      ],
      "metadata": {
        "colab": {
          "base_uri": "https://localhost:8080/"
        },
        "id": "dBvYBXZQV1zb",
        "outputId": "07e2c3f4-d254-4827-f963-b2577517fd8d"
      },
      "execution_count": null,
      "outputs": [
        {
          "output_type": "stream",
          "name": "stdout",
          "text": [
            "[('b', 4), ('a', 1), ('c', 2), ('e', 1), ('f', 1), ('g', 2), ('h', 1), ('i', 2), ('j', 1), ('k', 2), ('l', 1), ('n', 2), ('m', 1), ('o', 1), ('p', 2), ('q', 1), ('d', 1), ('r', 1), ('s', 1), ('t', 1), ('u', 1), ('w', 1), ('v', 1), ('x', 1), ('z', 1), ('y', 1)]\n",
            "Yay! The string B a b B C e f g h i j k B l n N M o p q d i r s P t u w c g k v x z y has all the letters in the alphabet!! \n"
          ]
        }
      ]
    },
    {
      "cell_type": "code",
      "source": [
        "#Number 3\n",
        "\n",
        "tlds = {'Canada': 'ca', 'United States': 'us', 'Mexico': 'mx'}"
      ],
      "metadata": {
        "id": "rcGN3oSWYRfy"
      },
      "execution_count": null,
      "outputs": []
    },
    {
      "cell_type": "code",
      "source": [
        "#Part A\n",
        "if 'Canada' in tlds:\n",
        "   print(\"Yes, Canada is in the dictionary\")\n",
        "\n",
        "else:\n",
        "   print(\"No, Canada is not in the dictionary\")"
      ],
      "metadata": {
        "colab": {
          "base_uri": "https://localhost:8080/"
        },
        "id": "-DBs1zZWZDka",
        "outputId": "fb8cb60b-586a-4fab-f955-c5af4adc944c"
      },
      "execution_count": null,
      "outputs": [
        {
          "output_type": "stream",
          "name": "stdout",
          "text": [
            "No, Canada is not in the dictionary\n"
          ]
        }
      ]
    },
    {
      "cell_type": "code",
      "source": [
        "#Part B\n",
        "if 'France' in tlds:\n",
        "   print(\"Yes, France is in the dictionary\")\n",
        "\n",
        "else:\n",
        "   print(\"No, France is not in the dictionary\")"
      ],
      "metadata": {
        "colab": {
          "base_uri": "https://localhost:8080/"
        },
        "id": "MKyFmNG5ZdhC",
        "outputId": "0be4f8ff-9cd8-40c0-a326-7c0272299f99"
      },
      "execution_count": null,
      "outputs": [
        {
          "output_type": "stream",
          "name": "stdout",
          "text": [
            "No, France is not in the dictionary\n"
          ]
        }
      ]
    },
    {
      "cell_type": "code",
      "source": [
        "#Part C\n",
        "print(\"{:<20} {:<5}\".format(\"Country\", \"TLDs\"))\n",
        "\n",
        "for key, value in tlds.items():\n",
        "   print(\"{:<20} {:<15}\".format(key, value))"
      ],
      "metadata": {
        "colab": {
          "base_uri": "https://localhost:8080/"
        },
        "id": "65c5Cm8EZk84",
        "outputId": "c06de9e2-0545-4bf4-f168-fb9a6002e80e"
      },
      "execution_count": null,
      "outputs": [
        {
          "output_type": "stream",
          "name": "stdout",
          "text": [
            "Country              TLDs \n",
            "Canada               ca             \n",
            "United States        us             \n",
            "Mexico               mx             \n"
          ]
        }
      ]
    },
    {
      "cell_type": "code",
      "source": [
        "#Part D\n",
        "tlds['Sweden'] = 'sw'\n",
        "print(tlds)"
      ],
      "metadata": {
        "colab": {
          "base_uri": "https://localhost:8080/"
        },
        "id": "tfbvCHagZuf1",
        "outputId": "79b9ed7e-64c2-485a-9b2a-d6ff86c359fb"
      },
      "execution_count": null,
      "outputs": [
        {
          "output_type": "stream",
          "name": "stdout",
          "text": [
            "{'Canada': 'ca', 'United States': 'us', 'Mexico': 'mx', 'Sweden': 'sw'}\n"
          ]
        }
      ]
    },
    {
      "cell_type": "code",
      "source": [
        "#Part E\n",
        "tlds['Sweden'] = 'se'\n",
        "print(tlds)"
      ],
      "metadata": {
        "colab": {
          "base_uri": "https://localhost:8080/"
        },
        "id": "F9-rmJiKZ4M1",
        "outputId": "4c70099b-cf0a-428c-9c9d-1febc9c5d43b"
      },
      "execution_count": null,
      "outputs": [
        {
          "output_type": "stream",
          "name": "stdout",
          "text": [
            "{'Canada': 'ca', 'United States': 'us', 'Mexico': 'mx', 'Sweden': 'se'}\n"
          ]
        }
      ]
    },
    {
      "cell_type": "code",
      "source": [
        "#Part F\n",
        "tlds = {value : key for (key, value) in tlds.items()}\n",
        "\n",
        "print(tlds)"
      ],
      "metadata": {
        "colab": {
          "base_uri": "https://localhost:8080/"
        },
        "id": "9NzPbWmsZ9Xp",
        "outputId": "195305f2-1573-4ac8-9b0e-c68e4b1f4935"
      },
      "execution_count": null,
      "outputs": [
        {
          "output_type": "stream",
          "name": "stdout",
          "text": [
            "{'ca': 'Canada', 'us': 'United States', 'mx': 'Mexico', 'se': 'Sweden'}\n"
          ]
        }
      ]
    },
    {
      "cell_type": "code",
      "source": [
        "#Part G\n",
        "tlds = {key: value.upper() for (key, value) in tlds.items()}\n",
        "\n",
        "print(tlds)"
      ],
      "metadata": {
        "colab": {
          "base_uri": "https://localhost:8080/"
        },
        "id": "B11aFFITaFNr",
        "outputId": "8855efc8-f60b-4786-a8d6-7fdb0359a754"
      },
      "execution_count": null,
      "outputs": [
        {
          "output_type": "stream",
          "name": "stdout",
          "text": [
            "{'ca': 'CANADA', 'us': 'UNITED STATES', 'mx': 'MEXICO', 'se': 'SWEDEN'}\n"
          ]
        }
      ]
    }
  ]
}